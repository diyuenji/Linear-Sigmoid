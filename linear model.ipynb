{
 "cells": [
  {
   "cell_type": "code",
   "execution_count": 408,
   "metadata": {},
   "outputs": [],
   "source": [
    "import os\n",
    "from pathlib import Path\n",
    "\n",
    "iskaggle = os.environ.get(\"KAGGLE_KERNEL_RUN_TYPE\",\"\")\n",
    "if iskaggle: path = Path(\"../input/titanic\")\n",
    "else:\n",
    "    path = Path(\"titanic\")\n",
    "    if not path.exists():\n",
    "        import zipfile, kaggle\n",
    "        kaggle.api.competition_download_cli(str(path))\n",
    "        zipfile.ZipFile(f\"{path}.zip\").extractall(path)"
   ]
  },
  {
   "cell_type": "code",
   "execution_count": 409,
   "metadata": {},
   "outputs": [],
   "source": [
    "import torch, numpy as np, pandas as pd\n",
    "\n",
    "np.set_printoptions(linewidth=140)\n",
    "torch.set_printoptions(linewidth=140,sci_mode=False,edgeitems=7)\n",
    "pd.set_option('display.width',140)"
   ]
  },
  {
   "cell_type": "code",
   "execution_count": 410,
   "metadata": {},
   "outputs": [
    {
     "name": "stdout",
     "output_type": "stream",
     "text": [
      "Requirement already satisfied: pandas in c:\\users\\admin\\appdata\\local\\programs\\python\\python38\\lib\\site-packages (1.5.2)\n",
      "Requirement already satisfied: python-dateutil>=2.8.1 in c:\\users\\admin\\appdata\\local\\programs\\python\\python38\\lib\\site-packages (from pandas) (2.8.2)\n",
      "Requirement already satisfied: pytz>=2020.1 in c:\\users\\admin\\appdata\\local\\programs\\python\\python38\\lib\\site-packages (from pandas) (2022.7)\n",
      "Requirement already satisfied: numpy>=1.20.3 in c:\\users\\admin\\appdata\\local\\programs\\python\\python38\\lib\\site-packages (from pandas) (1.24.2)\n",
      "Requirement already satisfied: six>=1.5 in c:\\users\\admin\\appdata\\local\\programs\\python\\python38\\lib\\site-packages (from python-dateutil>=2.8.1->pandas) (1.16.0)\n"
     ]
    },
    {
     "name": "stderr",
     "output_type": "stream",
     "text": [
      "WARNING: Ignoring invalid distribution -rotobuf (c:\\users\\admin\\appdata\\local\\programs\\python\\python38\\lib\\site-packages)\n",
      "WARNING: Ignoring invalid distribution -rotobuf (c:\\users\\admin\\appdata\\local\\programs\\python\\python38\\lib\\site-packages)\n"
     ]
    }
   ],
   "source": [
    "!pip install pandas"
   ]
  },
  {
   "cell_type": "code",
   "execution_count": 411,
   "metadata": {},
   "outputs": [
    {
     "data": {
      "text/html": [
       "<div>\n",
       "<style scoped>\n",
       "    .dataframe tbody tr th:only-of-type {\n",
       "        vertical-align: middle;\n",
       "    }\n",
       "\n",
       "    .dataframe tbody tr th {\n",
       "        vertical-align: top;\n",
       "    }\n",
       "\n",
       "    .dataframe thead th {\n",
       "        text-align: right;\n",
       "    }\n",
       "</style>\n",
       "<table border=\"1\" class=\"dataframe\">\n",
       "  <thead>\n",
       "    <tr style=\"text-align: right;\">\n",
       "      <th></th>\n",
       "      <th>PassengerId</th>\n",
       "      <th>Survived</th>\n",
       "      <th>Pclass</th>\n",
       "      <th>Name</th>\n",
       "      <th>Sex</th>\n",
       "      <th>Age</th>\n",
       "      <th>SibSp</th>\n",
       "      <th>Parch</th>\n",
       "      <th>Ticket</th>\n",
       "      <th>Fare</th>\n",
       "      <th>Cabin</th>\n",
       "      <th>Embarked</th>\n",
       "    </tr>\n",
       "  </thead>\n",
       "  <tbody>\n",
       "    <tr>\n",
       "      <th>0</th>\n",
       "      <td>1</td>\n",
       "      <td>0</td>\n",
       "      <td>3</td>\n",
       "      <td>Braund, Mr. Owen Harris</td>\n",
       "      <td>male</td>\n",
       "      <td>22.0</td>\n",
       "      <td>1</td>\n",
       "      <td>0</td>\n",
       "      <td>A/5 21171</td>\n",
       "      <td>7.2500</td>\n",
       "      <td>NaN</td>\n",
       "      <td>S</td>\n",
       "    </tr>\n",
       "    <tr>\n",
       "      <th>1</th>\n",
       "      <td>2</td>\n",
       "      <td>1</td>\n",
       "      <td>1</td>\n",
       "      <td>Cumings, Mrs. John Bradley (Florence Briggs Thayer)</td>\n",
       "      <td>female</td>\n",
       "      <td>38.0</td>\n",
       "      <td>1</td>\n",
       "      <td>0</td>\n",
       "      <td>PC 17599</td>\n",
       "      <td>71.2833</td>\n",
       "      <td>C85</td>\n",
       "      <td>C</td>\n",
       "    </tr>\n",
       "    <tr>\n",
       "      <th>2</th>\n",
       "      <td>3</td>\n",
       "      <td>1</td>\n",
       "      <td>3</td>\n",
       "      <td>Heikkinen, Miss. Laina</td>\n",
       "      <td>female</td>\n",
       "      <td>26.0</td>\n",
       "      <td>0</td>\n",
       "      <td>0</td>\n",
       "      <td>STON/O2. 3101282</td>\n",
       "      <td>7.9250</td>\n",
       "      <td>NaN</td>\n",
       "      <td>S</td>\n",
       "    </tr>\n",
       "    <tr>\n",
       "      <th>3</th>\n",
       "      <td>4</td>\n",
       "      <td>1</td>\n",
       "      <td>1</td>\n",
       "      <td>Futrelle, Mrs. Jacques Heath (Lily May Peel)</td>\n",
       "      <td>female</td>\n",
       "      <td>35.0</td>\n",
       "      <td>1</td>\n",
       "      <td>0</td>\n",
       "      <td>113803</td>\n",
       "      <td>53.1000</td>\n",
       "      <td>C123</td>\n",
       "      <td>S</td>\n",
       "    </tr>\n",
       "    <tr>\n",
       "      <th>4</th>\n",
       "      <td>5</td>\n",
       "      <td>0</td>\n",
       "      <td>3</td>\n",
       "      <td>Allen, Mr. William Henry</td>\n",
       "      <td>male</td>\n",
       "      <td>35.0</td>\n",
       "      <td>0</td>\n",
       "      <td>0</td>\n",
       "      <td>373450</td>\n",
       "      <td>8.0500</td>\n",
       "      <td>NaN</td>\n",
       "      <td>S</td>\n",
       "    </tr>\n",
       "    <tr>\n",
       "      <th>...</th>\n",
       "      <td>...</td>\n",
       "      <td>...</td>\n",
       "      <td>...</td>\n",
       "      <td>...</td>\n",
       "      <td>...</td>\n",
       "      <td>...</td>\n",
       "      <td>...</td>\n",
       "      <td>...</td>\n",
       "      <td>...</td>\n",
       "      <td>...</td>\n",
       "      <td>...</td>\n",
       "      <td>...</td>\n",
       "    </tr>\n",
       "    <tr>\n",
       "      <th>886</th>\n",
       "      <td>887</td>\n",
       "      <td>0</td>\n",
       "      <td>2</td>\n",
       "      <td>Montvila, Rev. Juozas</td>\n",
       "      <td>male</td>\n",
       "      <td>27.0</td>\n",
       "      <td>0</td>\n",
       "      <td>0</td>\n",
       "      <td>211536</td>\n",
       "      <td>13.0000</td>\n",
       "      <td>NaN</td>\n",
       "      <td>S</td>\n",
       "    </tr>\n",
       "    <tr>\n",
       "      <th>887</th>\n",
       "      <td>888</td>\n",
       "      <td>1</td>\n",
       "      <td>1</td>\n",
       "      <td>Graham, Miss. Margaret Edith</td>\n",
       "      <td>female</td>\n",
       "      <td>19.0</td>\n",
       "      <td>0</td>\n",
       "      <td>0</td>\n",
       "      <td>112053</td>\n",
       "      <td>30.0000</td>\n",
       "      <td>B42</td>\n",
       "      <td>S</td>\n",
       "    </tr>\n",
       "    <tr>\n",
       "      <th>888</th>\n",
       "      <td>889</td>\n",
       "      <td>0</td>\n",
       "      <td>3</td>\n",
       "      <td>Johnston, Miss. Catherine Helen \"Carrie\"</td>\n",
       "      <td>female</td>\n",
       "      <td>NaN</td>\n",
       "      <td>1</td>\n",
       "      <td>2</td>\n",
       "      <td>W./C. 6607</td>\n",
       "      <td>23.4500</td>\n",
       "      <td>NaN</td>\n",
       "      <td>S</td>\n",
       "    </tr>\n",
       "    <tr>\n",
       "      <th>889</th>\n",
       "      <td>890</td>\n",
       "      <td>1</td>\n",
       "      <td>1</td>\n",
       "      <td>Behr, Mr. Karl Howell</td>\n",
       "      <td>male</td>\n",
       "      <td>26.0</td>\n",
       "      <td>0</td>\n",
       "      <td>0</td>\n",
       "      <td>111369</td>\n",
       "      <td>30.0000</td>\n",
       "      <td>C148</td>\n",
       "      <td>C</td>\n",
       "    </tr>\n",
       "    <tr>\n",
       "      <th>890</th>\n",
       "      <td>891</td>\n",
       "      <td>0</td>\n",
       "      <td>3</td>\n",
       "      <td>Dooley, Mr. Patrick</td>\n",
       "      <td>male</td>\n",
       "      <td>32.0</td>\n",
       "      <td>0</td>\n",
       "      <td>0</td>\n",
       "      <td>370376</td>\n",
       "      <td>7.7500</td>\n",
       "      <td>NaN</td>\n",
       "      <td>Q</td>\n",
       "    </tr>\n",
       "  </tbody>\n",
       "</table>\n",
       "<p>891 rows × 12 columns</p>\n",
       "</div>"
      ],
      "text/plain": [
       "     PassengerId  Survived  Pclass                                                 Name     Sex   Age  SibSp  Parch            Ticket  \\\n",
       "0              1         0       3                              Braund, Mr. Owen Harris    male  22.0      1      0         A/5 21171   \n",
       "1              2         1       1  Cumings, Mrs. John Bradley (Florence Briggs Thayer)  female  38.0      1      0          PC 17599   \n",
       "2              3         1       3                               Heikkinen, Miss. Laina  female  26.0      0      0  STON/O2. 3101282   \n",
       "3              4         1       1         Futrelle, Mrs. Jacques Heath (Lily May Peel)  female  35.0      1      0            113803   \n",
       "4              5         0       3                             Allen, Mr. William Henry    male  35.0      0      0            373450   \n",
       "..           ...       ...     ...                                                  ...     ...   ...    ...    ...               ...   \n",
       "886          887         0       2                                Montvila, Rev. Juozas    male  27.0      0      0            211536   \n",
       "887          888         1       1                         Graham, Miss. Margaret Edith  female  19.0      0      0            112053   \n",
       "888          889         0       3             Johnston, Miss. Catherine Helen \"Carrie\"  female   NaN      1      2        W./C. 6607   \n",
       "889          890         1       1                                Behr, Mr. Karl Howell    male  26.0      0      0            111369   \n",
       "890          891         0       3                                  Dooley, Mr. Patrick    male  32.0      0      0            370376   \n",
       "\n",
       "        Fare Cabin Embarked  \n",
       "0     7.2500   NaN        S  \n",
       "1    71.2833   C85        C  \n",
       "2     7.9250   NaN        S  \n",
       "3    53.1000  C123        S  \n",
       "4     8.0500   NaN        S  \n",
       "..       ...   ...      ...  \n",
       "886  13.0000   NaN        S  \n",
       "887  30.0000   B42        S  \n",
       "888  23.4500   NaN        S  \n",
       "889  30.0000  C148        C  \n",
       "890   7.7500   NaN        Q  \n",
       "\n",
       "[891 rows x 12 columns]"
      ]
     },
     "execution_count": 411,
     "metadata": {},
     "output_type": "execute_result"
    }
   ],
   "source": [
    "df = pd.read_csv(path/'train.csv')\n",
    "df"
   ]
  },
  {
   "cell_type": "code",
   "execution_count": 412,
   "metadata": {},
   "outputs": [
    {
     "data": {
      "text/html": [
       "<div>\n",
       "<style scoped>\n",
       "    .dataframe tbody tr th:only-of-type {\n",
       "        vertical-align: middle;\n",
       "    }\n",
       "\n",
       "    .dataframe tbody tr th {\n",
       "        vertical-align: top;\n",
       "    }\n",
       "\n",
       "    .dataframe thead th {\n",
       "        text-align: right;\n",
       "    }\n",
       "</style>\n",
       "<table border=\"1\" class=\"dataframe\">\n",
       "  <thead>\n",
       "    <tr style=\"text-align: right;\">\n",
       "      <th></th>\n",
       "      <th>PassengerId</th>\n",
       "      <th>Survived</th>\n",
       "      <th>Pclass</th>\n",
       "      <th>Name</th>\n",
       "      <th>Sex</th>\n",
       "      <th>Age</th>\n",
       "      <th>SibSp</th>\n",
       "      <th>Parch</th>\n",
       "      <th>Ticket</th>\n",
       "      <th>Fare</th>\n",
       "      <th>Cabin</th>\n",
       "      <th>Embarked</th>\n",
       "    </tr>\n",
       "  </thead>\n",
       "  <tbody>\n",
       "    <tr>\n",
       "      <th>0</th>\n",
       "      <td>False</td>\n",
       "      <td>False</td>\n",
       "      <td>False</td>\n",
       "      <td>False</td>\n",
       "      <td>False</td>\n",
       "      <td>False</td>\n",
       "      <td>False</td>\n",
       "      <td>False</td>\n",
       "      <td>False</td>\n",
       "      <td>False</td>\n",
       "      <td>True</td>\n",
       "      <td>False</td>\n",
       "    </tr>\n",
       "    <tr>\n",
       "      <th>1</th>\n",
       "      <td>False</td>\n",
       "      <td>False</td>\n",
       "      <td>False</td>\n",
       "      <td>False</td>\n",
       "      <td>False</td>\n",
       "      <td>False</td>\n",
       "      <td>False</td>\n",
       "      <td>False</td>\n",
       "      <td>False</td>\n",
       "      <td>False</td>\n",
       "      <td>False</td>\n",
       "      <td>False</td>\n",
       "    </tr>\n",
       "    <tr>\n",
       "      <th>2</th>\n",
       "      <td>False</td>\n",
       "      <td>False</td>\n",
       "      <td>False</td>\n",
       "      <td>False</td>\n",
       "      <td>False</td>\n",
       "      <td>False</td>\n",
       "      <td>False</td>\n",
       "      <td>False</td>\n",
       "      <td>False</td>\n",
       "      <td>False</td>\n",
       "      <td>True</td>\n",
       "      <td>False</td>\n",
       "    </tr>\n",
       "    <tr>\n",
       "      <th>3</th>\n",
       "      <td>False</td>\n",
       "      <td>False</td>\n",
       "      <td>False</td>\n",
       "      <td>False</td>\n",
       "      <td>False</td>\n",
       "      <td>False</td>\n",
       "      <td>False</td>\n",
       "      <td>False</td>\n",
       "      <td>False</td>\n",
       "      <td>False</td>\n",
       "      <td>False</td>\n",
       "      <td>False</td>\n",
       "    </tr>\n",
       "    <tr>\n",
       "      <th>4</th>\n",
       "      <td>False</td>\n",
       "      <td>False</td>\n",
       "      <td>False</td>\n",
       "      <td>False</td>\n",
       "      <td>False</td>\n",
       "      <td>False</td>\n",
       "      <td>False</td>\n",
       "      <td>False</td>\n",
       "      <td>False</td>\n",
       "      <td>False</td>\n",
       "      <td>True</td>\n",
       "      <td>False</td>\n",
       "    </tr>\n",
       "    <tr>\n",
       "      <th>...</th>\n",
       "      <td>...</td>\n",
       "      <td>...</td>\n",
       "      <td>...</td>\n",
       "      <td>...</td>\n",
       "      <td>...</td>\n",
       "      <td>...</td>\n",
       "      <td>...</td>\n",
       "      <td>...</td>\n",
       "      <td>...</td>\n",
       "      <td>...</td>\n",
       "      <td>...</td>\n",
       "      <td>...</td>\n",
       "    </tr>\n",
       "    <tr>\n",
       "      <th>886</th>\n",
       "      <td>False</td>\n",
       "      <td>False</td>\n",
       "      <td>False</td>\n",
       "      <td>False</td>\n",
       "      <td>False</td>\n",
       "      <td>False</td>\n",
       "      <td>False</td>\n",
       "      <td>False</td>\n",
       "      <td>False</td>\n",
       "      <td>False</td>\n",
       "      <td>True</td>\n",
       "      <td>False</td>\n",
       "    </tr>\n",
       "    <tr>\n",
       "      <th>887</th>\n",
       "      <td>False</td>\n",
       "      <td>False</td>\n",
       "      <td>False</td>\n",
       "      <td>False</td>\n",
       "      <td>False</td>\n",
       "      <td>False</td>\n",
       "      <td>False</td>\n",
       "      <td>False</td>\n",
       "      <td>False</td>\n",
       "      <td>False</td>\n",
       "      <td>False</td>\n",
       "      <td>False</td>\n",
       "    </tr>\n",
       "    <tr>\n",
       "      <th>888</th>\n",
       "      <td>False</td>\n",
       "      <td>False</td>\n",
       "      <td>False</td>\n",
       "      <td>False</td>\n",
       "      <td>False</td>\n",
       "      <td>True</td>\n",
       "      <td>False</td>\n",
       "      <td>False</td>\n",
       "      <td>False</td>\n",
       "      <td>False</td>\n",
       "      <td>True</td>\n",
       "      <td>False</td>\n",
       "    </tr>\n",
       "    <tr>\n",
       "      <th>889</th>\n",
       "      <td>False</td>\n",
       "      <td>False</td>\n",
       "      <td>False</td>\n",
       "      <td>False</td>\n",
       "      <td>False</td>\n",
       "      <td>False</td>\n",
       "      <td>False</td>\n",
       "      <td>False</td>\n",
       "      <td>False</td>\n",
       "      <td>False</td>\n",
       "      <td>False</td>\n",
       "      <td>False</td>\n",
       "    </tr>\n",
       "    <tr>\n",
       "      <th>890</th>\n",
       "      <td>False</td>\n",
       "      <td>False</td>\n",
       "      <td>False</td>\n",
       "      <td>False</td>\n",
       "      <td>False</td>\n",
       "      <td>False</td>\n",
       "      <td>False</td>\n",
       "      <td>False</td>\n",
       "      <td>False</td>\n",
       "      <td>False</td>\n",
       "      <td>True</td>\n",
       "      <td>False</td>\n",
       "    </tr>\n",
       "  </tbody>\n",
       "</table>\n",
       "<p>891 rows × 12 columns</p>\n",
       "</div>"
      ],
      "text/plain": [
       "     PassengerId  Survived  Pclass   Name    Sex    Age  SibSp  Parch  Ticket   Fare  Cabin  Embarked\n",
       "0          False     False   False  False  False  False  False  False   False  False   True     False\n",
       "1          False     False   False  False  False  False  False  False   False  False  False     False\n",
       "2          False     False   False  False  False  False  False  False   False  False   True     False\n",
       "3          False     False   False  False  False  False  False  False   False  False  False     False\n",
       "4          False     False   False  False  False  False  False  False   False  False   True     False\n",
       "..           ...       ...     ...    ...    ...    ...    ...    ...     ...    ...    ...       ...\n",
       "886        False     False   False  False  False  False  False  False   False  False   True     False\n",
       "887        False     False   False  False  False  False  False  False   False  False  False     False\n",
       "888        False     False   False  False  False   True  False  False   False  False   True     False\n",
       "889        False     False   False  False  False  False  False  False   False  False  False     False\n",
       "890        False     False   False  False  False  False  False  False   False  False   True     False\n",
       "\n",
       "[891 rows x 12 columns]"
      ]
     },
     "execution_count": 412,
     "metadata": {},
     "output_type": "execute_result"
    }
   ],
   "source": [
    "df.isna() #is not a number use for missing data"
   ]
  },
  {
   "cell_type": "code",
   "execution_count": 413,
   "metadata": {},
   "outputs": [
    {
     "data": {
      "text/plain": [
       "PassengerId      0\n",
       "Survived         0\n",
       "Pclass           0\n",
       "Name             0\n",
       "Sex              0\n",
       "Age            177\n",
       "SibSp            0\n",
       "Parch            0\n",
       "Ticket           0\n",
       "Fare             0\n",
       "Cabin          687\n",
       "Embarked         2\n",
       "dtype: int64"
      ]
     },
     "execution_count": 413,
     "metadata": {},
     "output_type": "execute_result"
    }
   ],
   "source": [
    "df.isna().sum()# sum each element in row"
   ]
  },
  {
   "cell_type": "code",
   "execution_count": 414,
   "metadata": {},
   "outputs": [
    {
     "data": {
      "text/plain": [
       "PassengerId                      1\n",
       "Survived                       0.0\n",
       "Pclass                         3.0\n",
       "Name           Abbing, Mr. Anthony\n",
       "Sex                           male\n",
       "Age                           24.0\n",
       "SibSp                          0.0\n",
       "Parch                          0.0\n",
       "Ticket                        1601\n",
       "Fare                          8.05\n",
       "Cabin                      B96 B98\n",
       "Embarked                         S\n",
       "Name: 0, dtype: object"
      ]
     },
     "execution_count": 414,
     "metadata": {},
     "output_type": "execute_result"
    }
   ],
   "source": [
    "modes=df.mode().iloc[0] #The mode of a set of values is the value that appears most often. It can be multiple values. if all are 1 then choose the first according to vocab\n",
    "modes"
   ]
  },
  {
   "cell_type": "code",
   "execution_count": 415,
   "metadata": {},
   "outputs": [],
   "source": [
    "df.fillna(modes,inplace=True) #panda auto match column to colum"
   ]
  },
  {
   "cell_type": "code",
   "execution_count": 416,
   "metadata": {},
   "outputs": [
    {
     "data": {
      "text/html": [
       "<div>\n",
       "<style scoped>\n",
       "    .dataframe tbody tr th:only-of-type {\n",
       "        vertical-align: middle;\n",
       "    }\n",
       "\n",
       "    .dataframe tbody tr th {\n",
       "        vertical-align: top;\n",
       "    }\n",
       "\n",
       "    .dataframe thead th {\n",
       "        text-align: right;\n",
       "    }\n",
       "</style>\n",
       "<table border=\"1\" class=\"dataframe\">\n",
       "  <thead>\n",
       "    <tr style=\"text-align: right;\">\n",
       "      <th></th>\n",
       "      <th>PassengerId</th>\n",
       "      <th>Survived</th>\n",
       "      <th>Pclass</th>\n",
       "      <th>Age</th>\n",
       "      <th>SibSp</th>\n",
       "      <th>Parch</th>\n",
       "      <th>Fare</th>\n",
       "    </tr>\n",
       "  </thead>\n",
       "  <tbody>\n",
       "    <tr>\n",
       "      <th>count</th>\n",
       "      <td>891.000000</td>\n",
       "      <td>891.000000</td>\n",
       "      <td>891.000000</td>\n",
       "      <td>891.000000</td>\n",
       "      <td>891.000000</td>\n",
       "      <td>891.000000</td>\n",
       "      <td>891.000000</td>\n",
       "    </tr>\n",
       "    <tr>\n",
       "      <th>mean</th>\n",
       "      <td>446.000000</td>\n",
       "      <td>0.383838</td>\n",
       "      <td>2.308642</td>\n",
       "      <td>28.566970</td>\n",
       "      <td>0.523008</td>\n",
       "      <td>0.381594</td>\n",
       "      <td>32.204208</td>\n",
       "    </tr>\n",
       "    <tr>\n",
       "      <th>std</th>\n",
       "      <td>257.353842</td>\n",
       "      <td>0.486592</td>\n",
       "      <td>0.836071</td>\n",
       "      <td>13.199572</td>\n",
       "      <td>1.102743</td>\n",
       "      <td>0.806057</td>\n",
       "      <td>49.693429</td>\n",
       "    </tr>\n",
       "    <tr>\n",
       "      <th>min</th>\n",
       "      <td>1.000000</td>\n",
       "      <td>0.000000</td>\n",
       "      <td>1.000000</td>\n",
       "      <td>0.420000</td>\n",
       "      <td>0.000000</td>\n",
       "      <td>0.000000</td>\n",
       "      <td>0.000000</td>\n",
       "    </tr>\n",
       "    <tr>\n",
       "      <th>25%</th>\n",
       "      <td>223.500000</td>\n",
       "      <td>0.000000</td>\n",
       "      <td>2.000000</td>\n",
       "      <td>22.000000</td>\n",
       "      <td>0.000000</td>\n",
       "      <td>0.000000</td>\n",
       "      <td>7.910400</td>\n",
       "    </tr>\n",
       "    <tr>\n",
       "      <th>50%</th>\n",
       "      <td>446.000000</td>\n",
       "      <td>0.000000</td>\n",
       "      <td>3.000000</td>\n",
       "      <td>24.000000</td>\n",
       "      <td>0.000000</td>\n",
       "      <td>0.000000</td>\n",
       "      <td>14.454200</td>\n",
       "    </tr>\n",
       "    <tr>\n",
       "      <th>75%</th>\n",
       "      <td>668.500000</td>\n",
       "      <td>1.000000</td>\n",
       "      <td>3.000000</td>\n",
       "      <td>35.000000</td>\n",
       "      <td>1.000000</td>\n",
       "      <td>0.000000</td>\n",
       "      <td>31.000000</td>\n",
       "    </tr>\n",
       "    <tr>\n",
       "      <th>max</th>\n",
       "      <td>891.000000</td>\n",
       "      <td>1.000000</td>\n",
       "      <td>3.000000</td>\n",
       "      <td>80.000000</td>\n",
       "      <td>8.000000</td>\n",
       "      <td>6.000000</td>\n",
       "      <td>512.329200</td>\n",
       "    </tr>\n",
       "  </tbody>\n",
       "</table>\n",
       "</div>"
      ],
      "text/plain": [
       "       PassengerId    Survived      Pclass         Age       SibSp       Parch        Fare\n",
       "count   891.000000  891.000000  891.000000  891.000000  891.000000  891.000000  891.000000\n",
       "mean    446.000000    0.383838    2.308642   28.566970    0.523008    0.381594   32.204208\n",
       "std     257.353842    0.486592    0.836071   13.199572    1.102743    0.806057   49.693429\n",
       "min       1.000000    0.000000    1.000000    0.420000    0.000000    0.000000    0.000000\n",
       "25%     223.500000    0.000000    2.000000   22.000000    0.000000    0.000000    7.910400\n",
       "50%     446.000000    0.000000    3.000000   24.000000    0.000000    0.000000   14.454200\n",
       "75%     668.500000    1.000000    3.000000   35.000000    1.000000    0.000000   31.000000\n",
       "max     891.000000    1.000000    3.000000   80.000000    8.000000    6.000000  512.329200"
      ]
     },
     "execution_count": 416,
     "metadata": {},
     "output_type": "execute_result"
    }
   ],
   "source": [
    "df.describe(include=(np.number))"
   ]
  },
  {
   "cell_type": "markdown",
   "metadata": {},
   "source": [
    "### Long tail distribution\n",
    "Alots small values and vice versa\n",
    "\n",
    "Linear model dont approriate to this"
   ]
  },
  {
   "cell_type": "code",
   "execution_count": 417,
   "metadata": {},
   "outputs": [
    {
     "data": {
      "text/plain": [
       "<AxesSubplot: >"
      ]
     },
     "execution_count": 417,
     "metadata": {},
     "output_type": "execute_result"
    },
    {
     "data": {
      "image/png": "[encoded data removed]",
      "text/plain": [
       "<Figure size 640x480 with 1 Axes>"
      ]
     },
     "metadata": {},
     "output_type": "display_data"
    }
   ],
   "source": [
    "df['Fare'].hist()"
   ]
  },
  {
   "cell_type": "markdown",
   "metadata": {},
   "source": [
    "### Change long tail to reasonably centered distribution\n",
    "Use log"
   ]
  },
  {
   "cell_type": "code",
   "execution_count": 418,
   "metadata": {},
   "outputs": [],
   "source": [
    "df['LogFare']=np.log(df['Fare']+1)"
   ]
  },
  {
   "cell_type": "code",
   "execution_count": 419,
   "metadata": {},
   "outputs": [
    {
     "data": {
      "text/plain": [
       "<AxesSubplot: >"
      ]
     },
     "execution_count": 419,
     "metadata": {},
     "output_type": "execute_result"
    },
    {
     "data": {
      "image/png": "[encoded data removed]",
      "text/plain": [
       "<Figure size 640x480 with 1 Axes>"
      ]
     },
     "metadata": {},
     "output_type": "display_data"
    }
   ],
   "source": [
    "df['LogFare'].hist()"
   ]
  },
  {
   "cell_type": "code",
   "execution_count": 420,
   "metadata": {},
   "outputs": [
    {
     "data": {
      "text/plain": [
       "[1, 2, 3]"
      ]
     },
     "execution_count": 420,
     "metadata": {},
     "output_type": "execute_result"
    }
   ],
   "source": [
    "pclasses = sorted(df.Pclass.unique())\n",
    "pclasses"
   ]
  },
  {
   "cell_type": "code",
   "execution_count": 421,
   "metadata": {},
   "outputs": [
    {
     "data": {
      "text/html": [
       "<div>\n",
       "<style scoped>\n",
       "    .dataframe tbody tr th:only-of-type {\n",
       "        vertical-align: middle;\n",
       "    }\n",
       "\n",
       "    .dataframe tbody tr th {\n",
       "        vertical-align: top;\n",
       "    }\n",
       "\n",
       "    .dataframe thead th {\n",
       "        text-align: right;\n",
       "    }\n",
       "</style>\n",
       "<table border=\"1\" class=\"dataframe\">\n",
       "  <thead>\n",
       "    <tr style=\"text-align: right;\">\n",
       "      <th></th>\n",
       "      <th>Name</th>\n",
       "      <th>Sex</th>\n",
       "      <th>Ticket</th>\n",
       "      <th>Cabin</th>\n",
       "      <th>Embarked</th>\n",
       "    </tr>\n",
       "  </thead>\n",
       "  <tbody>\n",
       "    <tr>\n",
       "      <th>count</th>\n",
       "      <td>891</td>\n",
       "      <td>891</td>\n",
       "      <td>891</td>\n",
       "      <td>891</td>\n",
       "      <td>891</td>\n",
       "    </tr>\n",
       "    <tr>\n",
       "      <th>unique</th>\n",
       "      <td>891</td>\n",
       "      <td>2</td>\n",
       "      <td>681</td>\n",
       "      <td>147</td>\n",
       "      <td>3</td>\n",
       "    </tr>\n",
       "    <tr>\n",
       "      <th>top</th>\n",
       "      <td>Braund, Mr. Owen Harris</td>\n",
       "      <td>male</td>\n",
       "      <td>347082</td>\n",
       "      <td>B96 B98</td>\n",
       "      <td>S</td>\n",
       "    </tr>\n",
       "    <tr>\n",
       "      <th>freq</th>\n",
       "      <td>1</td>\n",
       "      <td>577</td>\n",
       "      <td>7</td>\n",
       "      <td>691</td>\n",
       "      <td>646</td>\n",
       "    </tr>\n",
       "  </tbody>\n",
       "</table>\n",
       "</div>"
      ],
      "text/plain": [
       "                           Name   Sex  Ticket    Cabin Embarked\n",
       "count                       891   891     891      891      891\n",
       "unique                      891     2     681      147        3\n",
       "top     Braund, Mr. Owen Harris  male  347082  B96 B98        S\n",
       "freq                          1   577       7      691      646"
      ]
     },
     "execution_count": 421,
     "metadata": {},
     "output_type": "execute_result"
    }
   ],
   "source": [
    "df.describe(include=(object))"
   ]
  },
  {
   "cell_type": "code",
   "execution_count": 422,
   "metadata": {},
   "outputs": [
    {
     "data": {
      "text/plain": [
       "Index(['PassengerId', 'Survived', 'Name', 'Age', 'SibSp', 'Parch', 'Ticket', 'Fare', 'Cabin', 'LogFare', 'Sex_female', 'Sex_male',\n",
       "       'Pclass_1', 'Pclass_2', 'Pclass_3', 'Embarked_C', 'Embarked_Q', 'Embarked_S'],\n",
       "      dtype='object')"
      ]
     },
     "execution_count": 422,
     "metadata": {},
     "output_type": "execute_result"
    }
   ],
   "source": [
    "df=pd.get_dummies(df,columns=['Sex','Pclass','Embarked'])\n",
    "df.columns"
   ]
  },
  {
   "cell_type": "code",
   "execution_count": 423,
   "metadata": {},
   "outputs": [
    {
     "data": {
      "text/html": [
       "<div>\n",
       "<style scoped>\n",
       "    .dataframe tbody tr th:only-of-type {\n",
       "        vertical-align: middle;\n",
       "    }\n",
       "\n",
       "    .dataframe tbody tr th {\n",
       "        vertical-align: top;\n",
       "    }\n",
       "\n",
       "    .dataframe thead th {\n",
       "        text-align: right;\n",
       "    }\n",
       "</style>\n",
       "<table border=\"1\" class=\"dataframe\">\n",
       "  <thead>\n",
       "    <tr style=\"text-align: right;\">\n",
       "      <th></th>\n",
       "      <th>Sex_male</th>\n",
       "      <th>Sex_female</th>\n",
       "      <th>Pclass_1</th>\n",
       "      <th>Pclass_2</th>\n",
       "      <th>Pclass_3</th>\n",
       "      <th>Embarked_C</th>\n",
       "      <th>Embarked_Q</th>\n",
       "      <th>Embarked_S</th>\n",
       "    </tr>\n",
       "  </thead>\n",
       "  <tbody>\n",
       "    <tr>\n",
       "      <th>0</th>\n",
       "      <td>1</td>\n",
       "      <td>0</td>\n",
       "      <td>0</td>\n",
       "      <td>0</td>\n",
       "      <td>1</td>\n",
       "      <td>0</td>\n",
       "      <td>0</td>\n",
       "      <td>1</td>\n",
       "    </tr>\n",
       "    <tr>\n",
       "      <th>1</th>\n",
       "      <td>0</td>\n",
       "      <td>1</td>\n",
       "      <td>1</td>\n",
       "      <td>0</td>\n",
       "      <td>0</td>\n",
       "      <td>1</td>\n",
       "      <td>0</td>\n",
       "      <td>0</td>\n",
       "    </tr>\n",
       "    <tr>\n",
       "      <th>2</th>\n",
       "      <td>0</td>\n",
       "      <td>1</td>\n",
       "      <td>0</td>\n",
       "      <td>0</td>\n",
       "      <td>1</td>\n",
       "      <td>0</td>\n",
       "      <td>0</td>\n",
       "      <td>1</td>\n",
       "    </tr>\n",
       "    <tr>\n",
       "      <th>3</th>\n",
       "      <td>0</td>\n",
       "      <td>1</td>\n",
       "      <td>1</td>\n",
       "      <td>0</td>\n",
       "      <td>0</td>\n",
       "      <td>0</td>\n",
       "      <td>0</td>\n",
       "      <td>1</td>\n",
       "    </tr>\n",
       "    <tr>\n",
       "      <th>4</th>\n",
       "      <td>1</td>\n",
       "      <td>0</td>\n",
       "      <td>0</td>\n",
       "      <td>0</td>\n",
       "      <td>1</td>\n",
       "      <td>0</td>\n",
       "      <td>0</td>\n",
       "      <td>1</td>\n",
       "    </tr>\n",
       "  </tbody>\n",
       "</table>\n",
       "</div>"
      ],
      "text/plain": [
       "   Sex_male  Sex_female  Pclass_1  Pclass_2  Pclass_3  Embarked_C  Embarked_Q  Embarked_S\n",
       "0         1           0         0         0         1           0           0           1\n",
       "1         0           1         1         0         0           1           0           0\n",
       "2         0           1         0         0         1           0           0           1\n",
       "3         0           1         1         0         0           0           0           1\n",
       "4         1           0         0         0         1           0           0           1"
      ]
     },
     "execution_count": 423,
     "metadata": {},
     "output_type": "execute_result"
    }
   ],
   "source": [
    "added_column=['Sex_male', 'Sex_female',\n",
    "       'Pclass_1', 'Pclass_2', 'Pclass_3', 'Embarked_C', 'Embarked_Q', 'Embarked_S']\n",
    "df[added_column].head()"
   ]
  },
  {
   "cell_type": "code",
   "execution_count": 424,
   "metadata": {},
   "outputs": [],
   "source": [
    "from torch import tensor\n",
    "\n",
    "t_dep=tensor(df.Survived)"
   ]
  },
  {
   "cell_type": "code",
   "execution_count": 425,
   "metadata": {},
   "outputs": [
    {
     "data": {
      "text/plain": [
       "tensor([[22.0000,  1.0000,  0.0000,  2.1102,  1.0000,  0.0000,  0.0000,  0.0000,  1.0000,  0.0000,  0.0000,  1.0000],\n",
       "        [38.0000,  1.0000,  0.0000,  4.2806,  0.0000,  1.0000,  1.0000,  0.0000,  0.0000,  1.0000,  0.0000,  0.0000],\n",
       "        [26.0000,  0.0000,  0.0000,  2.1889,  0.0000,  1.0000,  0.0000,  0.0000,  1.0000,  0.0000,  0.0000,  1.0000],\n",
       "        [35.0000,  1.0000,  0.0000,  3.9908,  0.0000,  1.0000,  1.0000,  0.0000,  0.0000,  0.0000,  0.0000,  1.0000],\n",
       "        [35.0000,  0.0000,  0.0000,  2.2028,  1.0000,  0.0000,  0.0000,  0.0000,  1.0000,  0.0000,  0.0000,  1.0000],\n",
       "        [24.0000,  0.0000,  0.0000,  2.2469,  1.0000,  0.0000,  0.0000,  0.0000,  1.0000,  0.0000,  1.0000,  0.0000],\n",
       "        [54.0000,  0.0000,  0.0000,  3.9677,  1.0000,  0.0000,  1.0000,  0.0000,  0.0000,  0.0000,  0.0000,  1.0000],\n",
       "        ...,\n",
       "        [25.0000,  0.0000,  0.0000,  2.0857,  1.0000,  0.0000,  0.0000,  0.0000,  1.0000,  0.0000,  0.0000,  1.0000],\n",
       "        [39.0000,  0.0000,  5.0000,  3.4054,  0.0000,  1.0000,  0.0000,  0.0000,  1.0000,  0.0000,  1.0000,  0.0000],\n",
       "        [27.0000,  0.0000,  0.0000,  2.6391,  1.0000,  0.0000,  0.0000,  1.0000,  0.0000,  0.0000,  0.0000,  1.0000],\n",
       "        [19.0000,  0.0000,  0.0000,  3.4340,  0.0000,  1.0000,  1.0000,  0.0000,  0.0000,  0.0000,  0.0000,  1.0000],\n",
       "        [24.0000,  1.0000,  2.0000,  3.1966,  0.0000,  1.0000,  0.0000,  0.0000,  1.0000,  0.0000,  0.0000,  1.0000],\n",
       "        [26.0000,  0.0000,  0.0000,  3.4340,  1.0000,  0.0000,  1.0000,  0.0000,  0.0000,  1.0000,  0.0000,  0.0000],\n",
       "        [32.0000,  0.0000,  0.0000,  2.1691,  1.0000,  0.0000,  0.0000,  0.0000,  1.0000,  0.0000,  1.0000,  0.0000]])"
      ]
     },
     "execution_count": 425,
     "metadata": {},
     "output_type": "execute_result"
    }
   ],
   "source": [
    "indep_cols=['Age','SibSp','Parch','LogFare']+added_column\n",
    "\n",
    "t_indep=tensor(df[indep_cols].values,dtype=torch.float)\n",
    "t_indep"
   ]
  },
  {
   "cell_type": "code",
   "execution_count": 426,
   "metadata": {},
   "outputs": [
    {
     "data": {
      "text/plain": [
       "torch.Size([891, 12])"
      ]
     },
     "execution_count": 426,
     "metadata": {},
     "output_type": "execute_result"
    }
   ],
   "source": [
    "t_indep.shape #row and collumn"
   ]
  },
  {
   "cell_type": "code",
   "execution_count": 427,
   "metadata": {},
   "outputs": [
    {
     "data": {
      "text/plain": [
       "2"
      ]
     },
     "execution_count": 427,
     "metadata": {},
     "output_type": "execute_result"
    }
   ],
   "source": [
    "len(t_indep.shape) #vector rank 1, matrix rank 2, scalar(vô hướng) rank 3"
   ]
  },
  {
   "cell_type": "code",
   "execution_count": 428,
   "metadata": {},
   "outputs": [
    {
     "data": {
      "text/plain": [
       "tensor([-0.4629,  0.1386,  0.2409, -0.2262, -0.2632, -0.3147,  0.4876,  0.3136,  0.2799, -0.4392,  0.2103,  0.3625])"
      ]
     },
     "execution_count": 428,
     "metadata": {},
     "output_type": "execute_result"
    }
   ],
   "source": [
    "torch.manual_seed(442) #Computer in general cant create rand number, this manual make the rand is fixed\n",
    "n_coeffs=t_indep.shape[1]\n",
    "coeffs = torch.rand(n_coeffs)-0.5\n",
    "coeffs"
   ]
  },
  {
   "cell_type": "code",
   "execution_count": 429,
   "metadata": {},
   "outputs": [
    {
     "data": {
      "text/plain": [
       "tensor([[-10.1838,   0.1386,   0.0000,  -0.4772,  -0.2632,  -0.0000,   0.0000,   0.0000,   0.2799,  -0.0000,   0.0000,   0.3625],\n",
       "        [-17.5902,   0.1386,   0.0000,  -0.9681,  -0.0000,  -0.3147,   0.4876,   0.0000,   0.0000,  -0.4392,   0.0000,   0.0000],\n",
       "        [-12.0354,   0.0000,   0.0000,  -0.4950,  -0.0000,  -0.3147,   0.0000,   0.0000,   0.2799,  -0.0000,   0.0000,   0.3625],\n",
       "        [-16.2015,   0.1386,   0.0000,  -0.9025,  -0.0000,  -0.3147,   0.4876,   0.0000,   0.0000,  -0.0000,   0.0000,   0.3625],\n",
       "        [-16.2015,   0.0000,   0.0000,  -0.4982,  -0.2632,  -0.0000,   0.0000,   0.0000,   0.2799,  -0.0000,   0.0000,   0.3625],\n",
       "        [-11.1096,   0.0000,   0.0000,  -0.5081,  -0.2632,  -0.0000,   0.0000,   0.0000,   0.2799,  -0.0000,   0.2103,   0.0000],\n",
       "        [-24.9966,   0.0000,   0.0000,  -0.8973,  -0.2632,  -0.0000,   0.4876,   0.0000,   0.0000,  -0.0000,   0.0000,   0.3625],\n",
       "        ...,\n",
       "        [-11.5725,   0.0000,   0.0000,  -0.4717,  -0.2632,  -0.0000,   0.0000,   0.0000,   0.2799,  -0.0000,   0.0000,   0.3625],\n",
       "        [-18.0531,   0.0000,   1.2045,  -0.7701,  -0.0000,  -0.3147,   0.0000,   0.0000,   0.2799,  -0.0000,   0.2103,   0.0000],\n",
       "        [-12.4983,   0.0000,   0.0000,  -0.5968,  -0.2632,  -0.0000,   0.0000,   0.3136,   0.0000,  -0.0000,   0.0000,   0.3625],\n",
       "        [ -8.7951,   0.0000,   0.0000,  -0.7766,  -0.0000,  -0.3147,   0.4876,   0.0000,   0.0000,  -0.0000,   0.0000,   0.3625],\n",
       "        [-11.1096,   0.1386,   0.4818,  -0.7229,  -0.0000,  -0.3147,   0.0000,   0.0000,   0.2799,  -0.0000,   0.0000,   0.3625],\n",
       "        [-12.0354,   0.0000,   0.0000,  -0.7766,  -0.2632,  -0.0000,   0.4876,   0.0000,   0.0000,  -0.4392,   0.0000,   0.0000],\n",
       "        [-14.8128,   0.0000,   0.0000,  -0.4905,  -0.2632,  -0.0000,   0.0000,   0.0000,   0.2799,  -0.0000,   0.2103,   0.0000]])"
      ]
     },
     "execution_count": 429,
     "metadata": {},
     "output_type": "execute_result"
    }
   ],
   "source": [
    "t_indep * coeffs"
   ]
  },
  {
   "cell_type": "code",
   "execution_count": 430,
   "metadata": {},
   "outputs": [
    {
     "data": {
      "text/plain": [
       "tensor([ 2,  6, 12])"
      ]
     },
     "execution_count": 430,
     "metadata": {},
     "output_type": "execute_result"
    }
   ],
   "source": [
    "tensor([1,2,3])*tensor([2,3,4])"
   ]
  },
  {
   "cell_type": "code",
   "execution_count": 431,
   "metadata": {},
   "outputs": [
    {
     "data": {
      "text/plain": [
       "tensor([80.0000,  8.0000,  6.0000,  6.2409,  1.0000,  1.0000,  1.0000,  1.0000,  1.0000,  1.0000,  1.0000,  1.0000])"
      ]
     },
     "execution_count": 431,
     "metadata": {},
     "output_type": "execute_result"
    }
   ],
   "source": [
    "vals,index_max=t_indep.max(dim=0)#dim =0 max in collumn\n",
    "vals\n"
   ]
  },
  {
   "cell_type": "code",
   "execution_count": 432,
   "metadata": {},
   "outputs": [
    {
     "data": {
      "text/plain": [
       "tensor([630, 159, 678, 258,   0,   1,   1,   9,   0,   1,   5,   0])"
      ]
     },
     "execution_count": 432,
     "metadata": {},
     "output_type": "execute_result"
    }
   ],
   "source": [
    "index_max#vi tri max"
   ]
  },
  {
   "cell_type": "code",
   "execution_count": 433,
   "metadata": {},
   "outputs": [],
   "source": [
    "t_indep=t_indep/vals"
   ]
  },
  {
   "cell_type": "code",
   "execution_count": 434,
   "metadata": {},
   "outputs": [
    {
     "data": {
      "text/plain": [
       "tensor([[-0.1273,  0.0173,  0.0000, -0.0765, -0.2632, -0.0000,  0.0000,  0.0000,  0.2799, -0.0000,  0.0000,  0.3625],\n",
       "        [-0.2199,  0.0173,  0.0000, -0.1551, -0.0000, -0.3147,  0.4876,  0.0000,  0.0000, -0.4392,  0.0000,  0.0000],\n",
       "        [-0.1504,  0.0000,  0.0000, -0.0793, -0.0000, -0.3147,  0.0000,  0.0000,  0.2799, -0.0000,  0.0000,  0.3625],\n",
       "        [-0.2025,  0.0173,  0.0000, -0.1446, -0.0000, -0.3147,  0.4876,  0.0000,  0.0000, -0.0000,  0.0000,  0.3625],\n",
       "        [-0.2025,  0.0000,  0.0000, -0.0798, -0.2632, -0.0000,  0.0000,  0.0000,  0.2799, -0.0000,  0.0000,  0.3625],\n",
       "        [-0.1389,  0.0000,  0.0000, -0.0814, -0.2632, -0.0000,  0.0000,  0.0000,  0.2799, -0.0000,  0.2103,  0.0000],\n",
       "        [-0.3125,  0.0000,  0.0000, -0.1438, -0.2632, -0.0000,  0.4876,  0.0000,  0.0000, -0.0000,  0.0000,  0.3625],\n",
       "        ...,\n",
       "        [-0.1447,  0.0000,  0.0000, -0.0756, -0.2632, -0.0000,  0.0000,  0.0000,  0.2799, -0.0000,  0.0000,  0.3625],\n",
       "        [-0.2257,  0.0000,  0.2008, -0.1234, -0.0000, -0.3147,  0.0000,  0.0000,  0.2799, -0.0000,  0.2103,  0.0000],\n",
       "        [-0.1562,  0.0000,  0.0000, -0.0956, -0.2632, -0.0000,  0.0000,  0.3136,  0.0000, -0.0000,  0.0000,  0.3625],\n",
       "        [-0.1099,  0.0000,  0.0000, -0.1244, -0.0000, -0.3147,  0.4876,  0.0000,  0.0000, -0.0000,  0.0000,  0.3625],\n",
       "        [-0.1389,  0.0173,  0.0803, -0.1158, -0.0000, -0.3147,  0.0000,  0.0000,  0.2799, -0.0000,  0.0000,  0.3625],\n",
       "        [-0.1504,  0.0000,  0.0000, -0.1244, -0.2632, -0.0000,  0.4876,  0.0000,  0.0000, -0.4392,  0.0000,  0.0000],\n",
       "        [-0.1852,  0.0000,  0.0000, -0.0786, -0.2632, -0.0000,  0.0000,  0.0000,  0.2799, -0.0000,  0.2103,  0.0000]])"
      ]
     },
     "execution_count": 434,
     "metadata": {},
     "output_type": "execute_result"
    }
   ],
   "source": [
    "t_indep*coeffs"
   ]
  },
  {
   "cell_type": "code",
   "execution_count": 435,
   "metadata": {},
   "outputs": [
    {
     "data": {
      "text/plain": [
       "tensor([     0.1927,     -0.6239,      0.0979,      0.2056,      0.0968,      0.0066,      0.1306,      0.3476,      0.1613,     -0.6285,\n",
       "             0.2579,      0.0796,      0.1836,      0.2457,      0.1676,     -0.0595,      0.2014,      0.1783,      0.0589,     -0.6892,\n",
       "             0.0909,      0.1205,      0.0089,      0.2945,      0.2614,      0.1999,     -0.6378,      0.4071,     -0.0425,      0.1611,\n",
       "            -0.5679,     -0.5688,     -0.0420,     -0.0576,     -0.5197,      0.2173,     -0.6378,      0.1778,      0.1515,     -0.6284,\n",
       "             0.0284,      0.1104,     -0.6406,     -0.4960,     -0.0136,      0.1605,      0.0038,     -0.0420,     -0.6399,      0.1345,\n",
       "             0.3138,      0.1788,     -0.6902,      0.0915,     -0.7009,      0.3176,      0.1514,     -0.6638,      0.3084,      0.3422,\n",
       "            -0.6262,      0.1563,      0.1831,      0.3664,     -0.4753,     -0.6049,      0.1051,      0.1890,      0.2996,      0.1812,\n",
       "             0.1392,      0.2618,      0.1351,     -0.6549,      0.0472,      0.1563,      0.1611,      0.1605,      0.3651,      0.0598,\n",
       "             0.1684,      0.1261,     -0.0422,      0.2845,      0.1745,      0.0864,      0.2951,      0.1605,      0.3325,      0.1605,\n",
       "             0.1315,      0.1844,      0.1884,      0.2150,     -0.0387,      0.1605,     -0.7551,     -0.4586,      0.0896,      0.1140,\n",
       "             0.0865,      0.1611,      0.3475,      0.1060,      0.1204,      0.1379,      0.1280,      0.1616,      0.0801,     -0.0630,\n",
       "             0.1710,     -0.6398,      0.1720,      0.1430,     -0.6716,      0.1783,     -0.2596,      0.1503,     -0.5134,      0.3398,\n",
       "             0.1698,      0.1605,     -0.6841,      0.0777,      0.1566,     -0.5654,      0.0095,      0.1643,     -0.6696,      0.0435,\n",
       "            -0.6927,      0.1878,     -0.0263,      0.0915,      0.1725,     -0.6225,      0.3860,      0.2455,      0.2024,     -0.5126,\n",
       "            -0.6336,      0.1218,      0.1038,      0.0428,      0.2172,      0.2288,      0.1441,      0.2613,      0.1625,      0.0742,\n",
       "             0.0234,      0.2727,     -0.0218,      0.1258,      0.1635,     -0.6195,      0.0043,      0.1257,      0.1581,      0.3049,\n",
       "             0.0618,      0.0278,      0.1500,      0.1986,      0.3485,      0.2962,      0.2908,      0.1233,      0.3287,      0.0703,\n",
       "             0.1056,      0.1898,      0.2889,      0.1783,     -0.6641,      0.2534,      0.2137,     -0.6785,      0.1436,      0.1708,\n",
       "             0.2535,     -0.6283,      0.3506,      0.3482,      0.2712,      0.3055,     -0.0477,      0.2063,     -0.0486,      0.0916,\n",
       "             0.0806,      0.2073,      0.1560,      0.3335,     -0.6425,     -0.7828,      0.0095,      0.0951,     -0.0420,      0.1269,\n",
       "             0.1319,      0.3049,      0.1094,     -0.7622,      0.1952,      0.2679,      0.1090,     -0.6811,      0.0043,     -0.5718,\n",
       "             0.1647,      0.0468,      0.1754,      0.1436,      0.0268,     -0.6000,      0.0921,      0.0664,     -0.6090,      0.1507,\n",
       "             0.2067,      0.1610,      0.0042,      0.1611,      0.2209,      0.1672,      0.2144,      0.1841,      0.2130,      0.1622,\n",
       "             0.1894,      0.1326,     -0.0255,      0.3223,      0.1855,      0.1110,      0.0561,      0.2756,      0.2144,      0.1282,\n",
       "            -0.6948,     -0.0477,      0.1565,      0.1759,     -0.6725,      0.0512,      0.1043,      0.2035,      0.2860,     -0.0017,\n",
       "             0.1638,      0.1290,      0.1080,      0.1200,      0.0601,     -0.6625,     -0.5640,      0.1998,     -0.6949,     -0.0072,\n",
       "             0.0095,      0.3854,      0.1844,      0.3554,     -0.0420,      0.1160,      0.2617,      0.1731,      0.0573,      0.1547,\n",
       "             0.3224,      0.2345,      0.0548,     -0.5128,     -0.0420,      0.0299,     -0.0113,      0.2740,      0.1725,      0.0719,\n",
       "            -0.2278,      0.1381,      0.2014,      0.1894,      0.3286,     -0.6957,      0.1204,      0.1727,      0.0742,     -0.0304,\n",
       "             0.2262,     -0.5228,     -0.6925,      0.1059,      0.1611,     -0.4753,     -0.6349,      0.4393,      0.3230,     -0.7153,\n",
       "            -0.0420,      0.0072,      0.2692,     -0.0236,      0.1605,      0.4970,     -0.5761,     -0.5176,     -0.6617,     -0.5869,\n",
       "            -0.5658,     -0.4574,      0.1490,      0.1379,      0.1017,      0.0982,      0.1204,      0.0022,      0.2511,     -0.6181,\n",
       "             0.1754,      0.1437,     -0.0584,      0.1683,      0.3049,     -0.6528,     -0.0455,      0.0574,      0.0946,     -0.4664,\n",
       "            -0.0443,      0.2010,      0.2245,      0.2145,      0.2362,      0.1611,      0.2837,     -0.6814,      0.0389,      0.1961,\n",
       "             0.3393,      0.3267,      0.1552,      0.1725,      0.1089,      0.1269,      0.0343,      0.1033,      0.3168,      0.0539,\n",
       "             0.1618,      0.3181,     -0.5282,      0.1455,     -0.6378,      0.1319,      0.3024,      0.0459,     -0.0425,     -0.0425,\n",
       "             0.2037,     -0.6610,     -0.7934,      0.1011,      0.0038,      0.1291,     -0.7532,     -0.6892,     -0.0420,     -0.5592,\n",
       "            -0.4883,      0.2193,      0.1894,     -0.5203,      0.2903,     -0.5480,      0.1239,     -0.4849,     -0.5967,      0.1905,\n",
       "            -0.7061,     -0.5016,      0.1147,      0.2063,      0.1611,      0.1525,      0.4001,      0.0574,      0.0095,     -0.6316,\n",
       "             0.3024,      0.1788,      0.1725,     -0.5537,      0.1650,      0.1731,      0.0693,      0.0272,      0.1912,      0.1046,\n",
       "             0.0742,      0.1489,      0.1372,      0.1321,      0.1298,      0.1214,      0.0054,      0.3448,      0.1789,      0.1622,\n",
       "             0.1611,      0.0133,      0.0461,      0.2740,      0.0452,      0.1090,      0.0949,      0.2419,      0.1436,      0.2333,\n",
       "            -0.6406,      0.0269,      0.1322,      0.1241,      0.2218,      0.1638,      0.0972,      0.1320,      0.0095,      0.1142,\n",
       "             0.3047,      0.1033,      0.0162,      0.2049,      0.1684,      0.3782,      0.1919,      0.2695,      0.1924,      0.1450,\n",
       "             0.0387,      0.1782,      0.1731,      0.1037,      0.1602,      0.4840,      0.2168,      0.2700,     -0.5372,      0.1610,\n",
       "             0.1804,      0.1473,     -0.5101,     -0.6441,      0.1605,     -0.6695,      0.0906,      0.2701,     -0.0164,      0.0095,\n",
       "             0.1890,      0.1026,      0.1817,      0.0395,      0.1605,      0.0837,      0.2740,      0.1427,      0.0096,     -0.5126,\n",
       "             0.1638,      0.0771,      0.1463,     -0.6710,      0.1140,      0.3041,      0.1214,      0.1531,      0.1742,      0.2625,\n",
       "             0.3538,      0.2740,      0.0100,     -0.1224,     -0.5060,      0.1622,      0.1867,     -0.6745,      0.1257,      0.2821,\n",
       "             0.1473,      0.1812,      0.1436,     -0.7677,      0.1778,     -0.6606,     -0.7199,      0.1396,      0.3062,      0.1615,\n",
       "             0.1986,     -0.0247,     -0.0415,      0.0281,      0.2808,     -0.4719,      0.1313,      0.3278,      0.1027,      0.0819,\n",
       "            -0.0195,      0.1605,      0.2588,     -0.7100,      0.1627,      0.1861,      0.0761,     -0.0288,      0.0510,      0.1148,\n",
       "             0.1970,      0.1727,     -0.6378,     -0.6285,     -0.6378,     -0.0860,     -0.0164,      0.2521,      0.0742,      0.2630,\n",
       "             0.2878,     -0.6378,     -0.5398,     -0.6467,      0.0719,      0.2814,      0.2063,     -0.6093,      0.1410,     -0.4554,\n",
       "             0.2524,      0.2993,      0.2877,      0.1256,     -0.6563,      0.0971,      0.1493,     -0.6255,      0.1345,      0.2924,\n",
       "            -0.4038,      0.1372,      0.0091,     -0.6262,      0.1217,      0.1080,     -0.6609,     -0.5505,      0.2081,      0.0312,\n",
       "             0.0095,      0.0685,      0.1539,      0.1605,      0.1090,      0.1581,      0.1900,      0.2083,     -0.6378,      0.1150,\n",
       "            -0.0344,      0.1199,      0.2586,     -0.0420,      0.2067,      0.1699,      0.0690,      0.1806,     -0.6948,      0.1147,\n",
       "             0.1497,     -0.6054,     -0.0191,     -0.5578,     -0.6438,      0.3525,      0.0404,     -0.6634,      0.1720,      0.1605,\n",
       "             0.1007,     -0.7083,      0.0307,      0.0383,      0.0966,      0.1115,      0.0947,      0.0956,     -0.6378,     -0.6281,\n",
       "             0.1765,      0.1611,      0.3114,      0.0447,     -0.5375,      0.0865,      0.1264,      0.3056,     -0.6059,      0.1213,\n",
       "             0.1942,      0.1647,     -0.0477,      0.0095,      0.0968,      0.1683,      0.1408,      0.0917,      0.2793,      0.1739,\n",
       "            -0.6606,      0.2169,     -0.5829,      0.1786,      0.1548,      0.1069,     -0.1631,      0.2556,      0.1495,      0.0095,\n",
       "            -0.0005,      0.0085,     -0.5250,      0.4480,      0.2860,      0.1037,      0.1147,      0.1712,      0.1569,      0.1547,\n",
       "             0.1844,     -0.5592,      0.3265,      0.0935,     -0.5126,     -0.6330,      0.1900,     -0.6692,      0.1625,      0.1168,\n",
       "             0.1611,      0.1822,      0.1763,     -0.0423,     -0.0029,      0.1524,      0.1611,     -0.0538,      0.1841,     -0.6418,\n",
       "             0.1545,     -0.7303,      0.1960,      0.0933,      0.2014,      0.1061,      0.1725,      0.1616,      0.0505,      0.2700,\n",
       "             0.0537,      0.2810,     -0.0807,      0.1378,      0.2740,      0.1963,      0.1576,      0.1372,      0.1969,     -0.6091,\n",
       "            -0.0436,     -0.5288,      0.1792,      0.3248,     -0.0105,     -0.5718,      0.2733,      0.1818,      0.1962,      0.2946,\n",
       "             0.2777,     -0.5537,      0.0935,     -0.6435,      0.1195,      0.0150,      0.0447,     -0.0419,     -0.6118,      0.0579,\n",
       "            -0.5499,      0.2645,     -0.6372,      0.0037,      0.1670,      0.0677,      0.0041,      0.2240,      0.2259,     -0.6049,\n",
       "            -0.5473,      0.3278,      0.1826,      0.1262,      0.0163,      0.1910,     -0.6830,      0.1166,     -0.0135,      0.1095,\n",
       "             0.2390,      0.2225,      0.1205,      0.0279,      0.3034,      0.1812,      0.1277,     -0.0420,      0.1661,      0.1210,\n",
       "             0.1734,     -0.5943,      0.2740,      0.1841,      0.1841,      0.1114,      0.0585,     -0.6435,      0.1611,      0.1611,\n",
       "             0.3236,      0.2372,     -0.4748,      0.1547,      0.1205,      0.0843,      0.2333,      0.0921,      0.3496,     -0.0311,\n",
       "             0.2805,      0.2903,      0.1030,      0.1669,      0.0294,      0.3671,      0.1383,      0.2172,      0.1026,      0.1824,\n",
       "             0.1410,      0.0660,     -0.6146,      0.2509,      0.2079,      0.0993,     -0.4879,     -0.0796,     -0.0115,      0.1129,\n",
       "             0.1551,      0.0224,     -0.0570,     -0.6378,      0.0715,      0.1964,      0.0095,      0.2045,      0.0095,      0.1326,\n",
       "            -0.6256,      0.3072,      0.2946,      0.2221,      0.1589,      0.1580,      0.1460,      0.1667,      0.3597,     -0.6398,\n",
       "             0.0095,      0.2008,      0.2535,     -0.4789,      0.1553,      0.0915,      0.1325,      0.0660,     -0.6725,      0.0947,\n",
       "             0.1205,      0.1197,      0.4471,     -0.4664,      0.1477,      0.1211,      0.3612,      0.1448,      0.0915,      0.2172,\n",
       "             0.1495,      0.0366,      0.1218,      0.3167,      0.1228,      0.4480,      0.1153,     -0.6426,      0.0576,      0.3317,\n",
       "             0.1272,      0.1407,      0.3670,      0.1174,      0.3427,      0.0129,      0.0935,     -0.4461,      0.0095,      0.0174,\n",
       "            -0.6427,      0.3574,     -0.6378,      0.1670,      0.1942,     -0.5951,      0.1754,      0.1605,      0.0472,     -0.4778,\n",
       "             0.1841,      0.2318,     -0.5654,     -0.6949,      0.1986,      0.0584,      0.3049,     -0.7042,      0.1632,     -0.5509,\n",
       "             0.3797,     -0.1277,     -0.5696,      0.3489,      0.0047,      0.1790,      0.1473,      0.1716,     -0.6014,     -0.6378,\n",
       "             0.0782,      0.2171,      0.1383,      0.2535,      0.1783,      0.0227,     -0.6770,      0.2647,      0.1551,      0.3230,\n",
       "             0.1495,      0.1767,      0.3310,      0.0238,     -0.7016,     -0.6371,      0.1770,      0.1900,      0.1611,     -0.7108,\n",
       "             0.1374,      0.1090,      0.1118,      0.1623,      0.1589,      0.0271,      0.1610,      0.3010,      0.1706,     -0.4897,\n",
       "            -0.0368])"
      ]
     },
     "execution_count": 435,
     "metadata": {},
     "output_type": "execute_result"
    }
   ],
   "source": [
    "preds=(t_indep*coeffs).sum(axis=1) #add collumn\n",
    "preds"
   ]
  },
  {
   "cell_type": "code",
   "execution_count": 436,
   "metadata": {},
   "outputs": [
    {
     "data": {
      "text/plain": [
       "tensor([ 0.1927, -0.6239,  0.0979,  0.2056,  0.0968,  0.0066,  0.1306,  0.3476,  0.1613, -0.6285])"
      ]
     },
     "execution_count": 436,
     "metadata": {},
     "output_type": "execute_result"
    }
   ],
   "source": [
    "preds[:10]#first 10 element"
   ]
  },
  {
   "cell_type": "code",
   "execution_count": 437,
   "metadata": {},
   "outputs": [
    {
     "data": {
      "text/plain": [
       "tensor(0.5382)"
      ]
     },
     "execution_count": 437,
     "metadata": {},
     "output_type": "execute_result"
    }
   ],
   "source": [
    "loss=torch.abs(preds-t_dep).mean()\n",
    "loss"
   ]
  },
  {
   "cell_type": "markdown",
   "metadata": {},
   "source": [
    "### Function"
   ]
  },
  {
   "cell_type": "code",
   "execution_count": 438,
   "metadata": {},
   "outputs": [],
   "source": [
    "def calc_preds(coeffs,indeps): return (indeps*coeffs).sum(axis=1)\n",
    "def calc_loss(coeffs,indeps,deps): return torch.abs(calc_preds(coeffs,indeps)-deps).mean()"
   ]
  },
  {
   "cell_type": "markdown",
   "metadata": {},
   "source": [
    "### Doing a gradient descent step"
   ]
  },
  {
   "cell_type": "code",
   "execution_count": 439,
   "metadata": {},
   "outputs": [
    {
     "data": {
      "text/plain": [
       "tensor([-0.4629,  0.1386,  0.2409, -0.2262, -0.2632, -0.3147,  0.4876,  0.3136,  0.2799, -0.4392,  0.2103,  0.3625], requires_grad=True)"
      ]
     },
     "execution_count": 439,
     "metadata": {},
     "output_type": "execute_result"
    }
   ],
   "source": [
    "coeffs.requires_grad_() #in pytorch if there is underscore in the end,  that changes directly the content of  making a copy.Ex  a+= b is equivalent to a= operator.iadd(a, b)"
   ]
  },
  {
   "cell_type": "code",
   "execution_count": 440,
   "metadata": {},
   "outputs": [
    {
     "data": {
      "text/plain": [
       "tensor(0.5382, grad_fn=<MeanBackward0>)"
      ]
     },
     "execution_count": 440,
     "metadata": {},
     "output_type": "execute_result"
    }
   ],
   "source": [
    "loss=calc_loss(coeffs,t_indep,t_dep)\n",
    "loss"
   ]
  },
  {
   "cell_type": "code",
   "execution_count": 441,
   "metadata": {},
   "outputs": [],
   "source": [
    "loss.backward()#The backward() method in Pytorch is used to calculate the gradient, the gradient of a tensor is calculated for the one having requires_grad is set to True\n",
    "#loss is func backwward"
   ]
  },
  {
   "cell_type": "code",
   "execution_count": 442,
   "metadata": {},
   "outputs": [
    {
     "data": {
      "text/plain": [
       "tensor([-0.0106,  0.0129, -0.0041, -0.0484,  0.2099, -0.2132, -0.1212, -0.0247,  0.1425, -0.1886, -0.0191,  0.2043])"
      ]
     },
     "execution_count": 442,
     "metadata": {},
     "output_type": "execute_result"
    }
   ],
   "source": [
    "coeffs.grad#slope của mỗi hệ số"
   ]
  },
  {
   "cell_type": "code",
   "execution_count": 443,
   "metadata": {},
   "outputs": [
    {
     "name": "stdout",
     "output_type": "stream",
     "text": [
      "tensor(0.5197)\n"
     ]
    }
   ],
   "source": [
    "with torch.no_grad():\n",
    "    coeffs.sub_(coeffs.grad*0.1)\n",
    "    print(calc_loss(coeffs,t_indep,t_dep))\n",
    "    "
   ]
  },
  {
   "cell_type": "code",
   "execution_count": 444,
   "metadata": {},
   "outputs": [],
   "source": [
    "from fastai.data.transforms import RandomSplitter\n",
    "trn_split,val_split=RandomSplitter(seed=42)(df)\n"
   ]
  },
  {
   "cell_type": "code",
   "execution_count": 445,
   "metadata": {},
   "outputs": [
    {
     "data": {
      "text/plain": [
       "(#178) [303,778,531,385,134,476,691,443,386,128...]"
      ]
     },
     "execution_count": 445,
     "metadata": {},
     "output_type": "execute_result"
    }
   ],
   "source": [
    "val_split"
   ]
  },
  {
   "cell_type": "code",
   "execution_count": 446,
   "metadata": {},
   "outputs": [
    {
     "data": {
      "text/plain": [
       "(713, 178)"
      ]
     },
     "execution_count": 446,
     "metadata": {},
     "output_type": "execute_result"
    }
   ],
   "source": [
    "trn_indep,val_indep =  t_indep[trn_split],t_indep[val_split]\n",
    "trn_dep,val_dep     =  t_dep[trn_split],t_dep[val_split]\n",
    "len(trn_indep),len(val_indep)"
   ]
  },
  {
   "cell_type": "code",
   "execution_count": 447,
   "metadata": {},
   "outputs": [],
   "source": [
    "def update_coeffs(coeffs,lr):   coeffs.sub_(coeffs.grad*lr)"
   ]
  },
  {
   "cell_type": "code",
   "execution_count": 448,
   "metadata": {},
   "outputs": [],
   "source": [
    "def one_epoch(coeffs,lr):\n",
    "    loss=calc_loss(coeffs,trn_indep,trn_dep)\n",
    "    loss.backward()\n",
    "    with torch.no_grad(): update_coeffs(coeffs,lr)\n",
    "    print(f'{loss:.3f}',end=';')#end prevent new line\n",
    "    "
   ]
  },
  {
   "cell_type": "code",
   "execution_count": 449,
   "metadata": {},
   "outputs": [],
   "source": [
    "def init_coeffs(): return (torch.rand(n_coeffs)-0.5).requires_grad_()"
   ]
  },
  {
   "cell_type": "code",
   "execution_count": 450,
   "metadata": {},
   "outputs": [],
   "source": [
    "def train_model(epochs=30,lr=0.01):\n",
    "    torch.manual_seed(442)\n",
    "    coeffs=init_coeffs()\n",
    "    for i in range(epochs): one_epoch(coeffs,lr=lr)\n",
    "    return coeffs"
   ]
  },
  {
   "cell_type": "code",
   "execution_count": 451,
   "metadata": {},
   "outputs": [
    {
     "name": "stdout",
     "output_type": "stream",
     "text": [
      "0.536;0.532;0.525;0.515;0.503;0.489;0.477;0.466;0.449;0.424;0.396;0.373;0.354;0.338;0.321;0.306;0.297;0.295;"
     ]
    }
   ],
   "source": [
    "coeffs=train_model(18,lr=0.02)"
   ]
  },
  {
   "cell_type": "code",
   "execution_count": 452,
   "metadata": {},
   "outputs": [
    {
     "data": {
      "text/plain": [
       "{'Age': tensor(-0.2335),\n",
       " 'SibSp': tensor(0.1025),\n",
       " 'Parch': tensor(0.2530),\n",
       " 'LogFare': tensor(0.1073),\n",
       " 'Sex_male': tensor(-0.4166),\n",
       " 'Sex_female': tensor(0.3314),\n",
       " 'Pclass_1': tensor(0.8639),\n",
       " 'Pclass_2': tensor(0.4225),\n",
       " 'Pclass_3': tensor(0.2875),\n",
       " 'Embarked_C': tensor(0.1840),\n",
       " 'Embarked_Q': tensor(0.3267),\n",
       " 'Embarked_S': tensor(0.1158)}"
      ]
     },
     "execution_count": 452,
     "metadata": {},
     "output_type": "execute_result"
    }
   ],
   "source": [
    "def show_coeffs(): return dict(zip(indep_cols,coeffs.requires_grad_(False)))\n",
    "show_coeffs()"
   ]
  },
  {
   "cell_type": "markdown",
   "metadata": {},
   "source": [
    "##### Explained: All older people have less change to survive"
   ]
  },
  {
   "cell_type": "markdown",
   "metadata": {},
   "source": [
    "### Measuring accuracy"
   ]
  },
  {
   "cell_type": "code",
   "execution_count": 453,
   "metadata": {},
   "outputs": [],
   "source": [
    "preds=calc_preds(coeffs,val_indep)"
   ]
  },
  {
   "cell_type": "code",
   "execution_count": 454,
   "metadata": {},
   "outputs": [
    {
     "data": {
      "text/plain": [
       "tensor([ True,  True,  True,  True,  True,  True,  True,  True,  True,  True, False, False, False,  True,  True, False])"
      ]
     },
     "execution_count": 454,
     "metadata": {},
     "output_type": "execute_result"
    }
   ],
   "source": [
    "res=val_dep.bool()==(preds>0.5)\n",
    "res[:16]"
   ]
  },
  {
   "cell_type": "code",
   "execution_count": 455,
   "metadata": {},
   "outputs": [
    {
     "data": {
      "text/plain": [
       "tensor(0.7921)"
      ]
     },
     "execution_count": 455,
     "metadata": {},
     "output_type": "execute_result"
    }
   ],
   "source": [
    "res.float().mean()"
   ]
  },
  {
   "cell_type": "code",
   "execution_count": 456,
   "metadata": {},
   "outputs": [],
   "source": [
    "def acc(coeffs): return (val_dep.bool()==(calc_preds(coeffs,val_indep)>0.5)).float().mean()"
   ]
  },
  {
   "cell_type": "code",
   "execution_count": 457,
   "metadata": {},
   "outputs": [
    {
     "data": {
      "text/plain": [
       "tensor(0.7921)"
      ]
     },
     "execution_count": 457,
     "metadata": {},
     "output_type": "execute_result"
    }
   ],
   "source": [
    "acc(coeffs)"
   ]
  },
  {
   "cell_type": "markdown",
   "metadata": {},
   "source": [
    "### Using sigmoid"
   ]
  },
  {
   "cell_type": "code",
   "execution_count": 458,
   "metadata": {},
   "outputs": [
    {
     "data": {
      "text/plain": [
       "tensor([ 1.0550,  0.1648,  0.0210,  0.1432,  0.0940,  0.0883,  0.8792,  0.8332,  0.1986,  0.8419, -0.0691,  0.0877,  0.0729,  0.9130,\n",
       "        -0.0780,  0.4887,  0.4303,  0.8954,  0.0644,  0.6831, -0.0458,  0.4566,  1.4014,  0.8986, -0.0359,  0.1958,  0.8296,  0.4391])"
      ]
     },
     "execution_count": 458,
     "metadata": {},
     "output_type": "execute_result"
    }
   ],
   "source": [
    "preds[:28]"
   ]
  },
  {
   "cell_type": "code",
   "execution_count": 459,
   "metadata": {},
   "outputs": [
    {
     "data": {
      "image/png": "[encoded data removed]",
      "text/plain": [
       "<Figure size 640x480 with 1 Axes>"
      ]
     },
     "metadata": {},
     "output_type": "display_data"
    },
    {
     "data": {
      "text/plain": [
       "<sympy.plotting.plot.Plot at 0x242b6fb71f0>"
      ]
     },
     "execution_count": 459,
     "metadata": {},
     "output_type": "execute_result"
    }
   ],
   "source": [
    "\n",
    "import sympy\n",
    "sympy.plot(\"1/(1+exp(-x))\",xlim=(-15,15))"
   ]
  },
  {
   "cell_type": "code",
   "execution_count": 460,
   "metadata": {},
   "outputs": [
    {
     "data": {
      "text/plain": [
       "tensor([0.4929, 0.7949, 0.6674, 0.7842, 0.4806, 0.5414, 0.6162, 0.5286, 0.6863, 0.7249, 0.6958, 0.7683, 0.4915, 0.5390, 0.6751, 0.6809,\n",
       "        0.5851, 0.5242, 0.6699, 0.6833, 0.5190, 0.5169, 0.7190, 0.6325, 0.6995, 0.7124, 0.5053, 0.6740, 0.7136, 0.4885, 0.6393, 0.8034,\n",
       "        0.7136, 0.4927, 0.6544, 0.6275, 0.5053, 0.4908, 0.6810, 0.6938, 0.6617, 0.7020, 0.5056, 0.7485, 0.7166, 0.4886, 0.5470, 0.7136,\n",
       "        0.5160, 0.6782, 0.5308, 0.4907, 0.7898, 0.7015, 0.6353, 0.6353, 0.7006, 0.5020, 0.7330, 0.5423, 0.5067, 0.7817, 0.6273, 0.5388,\n",
       "        0.6500, 0.5219, 0.6957, 0.4923, 0.7023, 0.4938, 0.5175, 0.7115, 0.5336, 0.5097, 0.4907, 0.4877, 0.4885, 0.4886, 0.5651, 0.6664,\n",
       "        0.4905, 0.4856, 0.7136, 0.6336, 0.7031, 0.6738, 0.5351, 0.4886, 0.8119, 0.4886, 0.4850, 0.4914, 0.6254, 0.5152, 0.4627, 0.4886,\n",
       "        0.6190, 0.6633, 0.7041, 0.5229, 0.6661, 0.4885, 0.6500, 0.4823, 0.4855, 0.4856, 0.6705, 0.4885, 0.4783, 0.7199, 0.6211, 0.6943,\n",
       "        0.4901, 0.6748, 0.6900, 0.4907, 0.5073, 0.5257, 0.6678, 0.7159, 0.5399, 0.4886, 0.5416, 0.6942, 0.6277, 0.5189, 0.5411, 0.4882,\n",
       "        0.6989, 0.4728, 0.4990, 0.4910, 0.6587, 0.7015, 0.5235, 0.5425, 0.8017, 0.6310, 0.4950, 0.6540, 0.7037, 0.6699, 0.6739, 0.5442,\n",
       "        0.5281, 0.5458, 0.4863, 0.7067, 0.5389, 0.5111, 0.5044, 0.7912, 0.4657, 0.5000, 0.4883, 0.6446, 0.7183, 0.4842, 0.4889, 0.5440,\n",
       "        0.4873, 0.6902, 0.4870, 0.4940, 0.5351, 0.5243, 0.7945, 0.6990, 0.6340, 0.4936, 0.6096, 0.5837, 0.6963, 0.4907, 0.6288, 0.5066,\n",
       "        0.5134, 0.7844, 0.5198, 0.4704, 0.7160, 0.5418, 0.5388, 0.5622, 0.7029, 0.6366, 0.7184, 0.6198, 0.5459, 0.4798, 0.6946, 0.5279,\n",
       "        0.6747, 0.5559, 0.7873, 0.7851, 0.5411, 0.4862, 0.7136, 0.6995, 0.4863, 0.5440, 0.4805, 0.4896, 0.4930, 0.6927, 0.4887, 0.5076,\n",
       "        0.7183, 0.6397, 0.4881, 0.6943, 0.4897, 0.5198, 0.5443, 0.7995, 0.6667, 0.5173, 0.7958, 0.5190, 0.4945, 0.5220, 0.4689, 0.4885,\n",
       "        0.6324, 0.4907, 0.5270, 0.4908, 0.5286, 0.6903, 0.7855, 0.4848, 0.4988, 0.7141, 0.5234, 0.6685, 0.5157, 0.7286, 0.5270, 0.5174,\n",
       "        0.6884, 0.7184, 0.5197, 0.4896, 0.5009, 0.6789, 0.6680, 0.7173, 0.6407, 0.5084, 0.4882, 0.6785, 0.6080, 0.4902, 0.6796, 0.7006,\n",
       "        0.7997, 0.7859, 0.7997, 0.6948, 0.5411, 0.5432, 0.6322, 0.6098, 0.7136, 0.5146, 0.5242, 0.4910, 0.7808, 0.7847, 0.6347, 0.4784,\n",
       "        0.6993, 0.6512, 0.7136, 0.7712, 0.6549, 0.5129, 0.5815, 0.6770, 0.5113, 0.4856, 0.4951, 0.4923, 0.6341, 0.4994, 0.4849, 0.4900,\n",
       "        0.5111, 0.7148, 0.7876, 0.8044, 0.5324, 0.6690, 0.4885, 0.6500, 0.5056, 0.8159, 0.6347, 0.7974, 0.7136, 0.5518, 0.4828, 0.7417,\n",
       "        0.4886, 0.6778, 0.8006, 0.8058, 0.5425, 0.7960, 0.7998, 0.8224, 0.7120, 0.4856, 0.5269, 0.6673, 0.7045, 0.5026, 0.8010, 0.8025,\n",
       "        0.4897, 0.4864, 0.7384, 0.7148, 0.5440, 0.7955, 0.4607, 0.6921, 0.6796, 0.8092, 0.7223, 0.6197, 0.6413, 0.5040, 0.7922, 0.4885,\n",
       "        0.6373, 0.7931, 0.4733, 0.6209, 0.5566, 0.8115, 0.5213, 0.5235, 0.5155, 0.6995, 0.6896, 0.6740, 0.5204, 0.4758, 0.4899, 0.6352,\n",
       "        0.5255, 0.4942, 0.5053, 0.4863, 0.7955, 0.6908, 0.7136, 0.7136, 0.5273, 0.5438, 0.6815, 0.4801, 0.5470, 0.4838, 0.7844, 0.6833,\n",
       "        0.7136, 0.7993, 0.6548, 0.4954, 0.4923, 0.6574, 0.7026, 0.8019, 0.6697, 0.6746, 0.5060, 0.4921, 0.7941, 0.7176, 0.4827, 0.7841,\n",
       "        0.4885, 0.5357, 0.5495, 0.6921, 0.5411, 0.7175, 0.6542, 0.4907, 0.4920, 0.8032, 0.6896, 0.4900, 0.6641, 0.5110, 0.5241, 0.6969,\n",
       "        0.4776, 0.4872, 0.6742, 0.4916, 0.6716, 0.5221, 0.4688, 0.5546, 0.4907, 0.6903, 0.4885, 0.5407, 0.8199, 0.5129, 0.4740, 0.6687,\n",
       "        0.7080, 0.7205, 0.5198, 0.6996, 0.5056, 0.5433, 0.4849, 0.6802, 0.5104, 0.4882, 0.7021, 0.7049, 0.5411, 0.4828, 0.6314, 0.6740,\n",
       "        0.6935, 0.4933, 0.6223, 0.8099, 0.6994, 0.7316, 0.6578, 0.5183, 0.7006, 0.4922, 0.4910, 0.6970, 0.4886, 0.6708, 0.7162, 0.6273,\n",
       "        0.7125, 0.6155, 0.5427, 0.4954, 0.6460, 0.6407, 0.4886, 0.5019, 0.6059, 0.7895, 0.6826, 0.5411, 0.6177, 0.4813, 0.6199, 0.5067,\n",
       "        0.4886, 0.4779, 0.5129, 0.6122, 0.5411, 0.7151, 0.4882, 0.4787, 0.7167, 0.7144, 0.6707, 0.6367, 0.5221, 0.4877, 0.4898, 0.6933,\n",
       "        0.5437, 0.5129, 0.4697, 0.6437, 0.6567, 0.6903, 0.7857, 0.6273, 0.4842, 0.5160, 0.4954, 0.4904, 0.6134, 0.6204, 0.4908, 0.5080,\n",
       "        0.7874, 0.4911, 0.8056, 0.4885, 0.4940, 0.7154, 0.7135, 0.6609, 0.7927, 0.6620, 0.7139, 0.6341, 0.4898, 0.4951, 0.5375, 0.4886,\n",
       "        0.6259, 0.7866, 0.4883, 0.6194, 0.6926, 0.5456, 0.6972, 0.4827, 0.7861, 0.4900, 0.5053, 0.7962, 0.5053, 0.5291, 0.6826, 0.6424,\n",
       "        0.4776, 0.5413, 0.7262, 0.5053, 0.5241, 0.7050, 0.6651, 0.7291, 0.6198, 0.7977, 0.4909, 0.8126, 0.7964, 0.7117, 0.7105, 0.5244,\n",
       "        0.6407, 0.6066, 0.7076, 0.5414, 0.4995, 0.5537, 0.6785, 0.5248, 0.5412, 0.5067, 0.6699, 0.6080, 0.7884, 0.6580, 0.7904, 0.6665,\n",
       "        0.5411, 0.4769, 0.5215, 0.4886, 0.6687, 0.4994, 0.4922, 0.7051, 0.5053, 0.4827, 0.4957, 0.7773, 0.6259, 0.7136, 0.4945, 0.4946,\n",
       "        0.6933, 0.7823, 0.6884, 0.4827, 0.7131, 0.8024, 0.5052, 0.6434, 0.5060, 0.8051, 0.5080, 0.6425, 0.4901, 0.4886, 0.4801, 0.7884,\n",
       "        0.4715, 0.7305, 0.5208, 0.4980, 0.7027, 0.4610, 0.5053, 0.6389, 0.7160, 0.4885, 0.6359, 0.4740, 0.6425, 0.4857, 0.4842, 0.6326,\n",
       "        0.7379, 0.7826, 0.7118, 0.4881, 0.7184, 0.5411, 0.4806, 0.7249, 0.4973, 0.6727, 0.7289, 0.5219, 0.5090, 0.6275, 0.5249, 0.4907,\n",
       "        0.4935, 0.6095, 0.5525, 0.7900, 0.4871, 0.5411, 0.5959, 0.4685, 0.6450, 0.6208, 0.7087, 0.6970, 0.4827, 0.5357, 0.7088, 0.4946,\n",
       "        0.4914, 0.7993, 0.7129, 0.4966, 0.7151, 0.6408, 0.4922, 0.6294, 0.4884, 0.6692, 0.4885, 0.7138, 0.4910, 0.7136, 0.7167, 0.5377,\n",
       "        0.4885, 0.7222, 0.5249, 0.6520, 0.6288, 0.4936, 0.6183, 0.4796, 0.4947, 0.5319, 0.5235, 0.4885, 0.4748, 0.7895, 0.7050, 0.6350,\n",
       "        0.4898, 0.5191, 0.5129, 0.4929, 0.4883, 0.6733, 0.7194, 0.6628, 0.7137, 0.6519, 0.4921, 0.5401, 0.5162, 0.5692, 0.5257, 0.4932,\n",
       "        0.4929, 0.8024, 0.6353, 0.7066, 0.4966, 0.5045, 0.6094, 0.5039, 0.4740, 0.7136, 0.6512, 0.4753, 0.8073, 0.6266, 0.6984, 0.5404,\n",
       "        0.4903, 0.5161, 0.6866, 0.6218, 0.7914, 0.5219, 0.7984, 0.6341, 0.6234, 0.4856, 0.5038, 0.4921, 0.7960, 0.6969, 0.5438, 0.4819,\n",
       "        0.7221, 0.4964, 0.5169, 0.5053, 0.6378, 0.4918, 0.7055, 0.7136, 0.5295, 0.6709, 0.7889, 0.5185, 0.5129, 0.5249, 0.5249, 0.4881,\n",
       "        0.6889, 0.6539, 0.4885, 0.4885, 0.6346, 0.6332, 0.8211, 0.4946, 0.4835, 0.6194, 0.5119, 0.6958, 0.6431, 0.5360, 0.7246, 0.5140,\n",
       "        0.4827, 0.4893, 0.7107, 0.5552, 0.4856, 0.5281, 0.4813, 0.7844, 0.4909, 0.4758, 0.5082, 0.7999, 0.4943, 0.7773, 0.6513, 0.7097,\n",
       "        0.5488, 0.4829, 0.4893, 0.4710, 0.6781, 0.5053, 0.7122, 0.4928, 0.5411, 0.6824, 0.5411, 0.7891, 0.6902, 0.7931, 0.6312, 0.5172,\n",
       "        0.4874, 0.4875, 0.6723, 0.5808, 0.5334, 0.6393, 0.5411, 0.5328, 0.7160, 0.6504, 0.4878, 0.5133, 0.7729, 0.6644, 0.5009, 0.6808,\n",
       "        0.5169, 0.7091, 0.6705, 0.5336, 0.4859, 0.4834, 0.6105, 0.6725, 0.5133, 0.7852, 0.4871, 0.4821, 0.5154, 0.7135, 0.4839, 0.6208,\n",
       "        0.6693, 0.5540, 0.4739, 0.5345, 0.7845, 0.4867, 0.6111, 0.6776, 0.5344, 0.5407, 0.4966, 0.5827, 0.5411, 0.7695, 0.6940, 0.5561,\n",
       "        0.5053, 0.4893, 0.4931, 0.8016, 0.4911, 0.4886, 0.4907, 0.6502, 0.4915, 0.5292, 0.7943, 0.4972, 0.4940, 0.4753, 0.5440, 0.4976,\n",
       "        0.5356, 0.8021, 0.5425, 0.4521, 0.7067, 0.7974, 0.6922, 0.6823, 0.7896, 0.6157, 0.7132, 0.5053, 0.4848, 0.5291, 0.7734, 0.7160,\n",
       "        0.5242, 0.6883, 0.7147, 0.6319, 0.4893, 0.5182, 0.4871, 0.7854, 0.6219, 0.4723, 0.7159, 0.6890, 0.4923, 0.4922, 0.4885, 0.7915,\n",
       "        0.7100, 0.4820, 0.6709, 0.5205, 0.4874, 0.7505, 0.5220, 0.7883, 0.6935, 0.6489, 0.5353])"
      ]
     },
     "execution_count": 460,
     "metadata": {},
     "output_type": "execute_result"
    }
   ],
   "source": [
    "def calc_preds(coeffs,indeps): return torch.sigmoid((coeffs*indeps).sum(axis=1))#predefine\n",
    "calc_preds(coeffs,t_indep)"
   ]
  },
  {
   "cell_type": "code",
   "execution_count": 461,
   "metadata": {},
   "outputs": [
    {
     "data": {
      "text/plain": [
       "tensor([-0.2335,  0.1025,  0.2530,  0.1073, -0.4166,  0.3314,  0.8639,  0.4225,  0.2875,  0.1840,  0.3267,  0.1158])"
      ]
     },
     "execution_count": 461,
     "metadata": {},
     "output_type": "execute_result"
    }
   ],
   "source": [
    "coeffs#giá trị coeffs"
   ]
  },
  {
   "cell_type": "code",
   "execution_count": 462,
   "metadata": {},
   "outputs": [
    {
     "data": {
      "text/plain": [
       "tensor([    -0.7532,      0.2440,     -0.0028,     -1.1063,      1.3072,     -2.8135,     -1.3212,     -0.4376,      0.2525,     -2.8022,\n",
       "            -0.3562,      1.6522])"
      ]
     },
     "execution_count": 462,
     "metadata": {},
     "output_type": "execute_result"
    }
   ],
   "source": [
    "coeffs.grad#giá trị khi thế coeffs vào hàm derative"
   ]
  },
  {
   "cell_type": "code",
   "execution_count": 463,
   "metadata": {},
   "outputs": [
    {
     "name": "stdout",
     "output_type": "stream",
     "text": [
      "0.510;0.468;0.397;0.340;0.309;0.289;0.268;0.247;0.230;0.218;0.210;0.207;0.205;0.204;0.204;0.204;0.204;0.205;0.205;0.205;0.205;0.205;0.205;0.204;0.203;0.202;0.201;0.200;0.198;0.197;"
     ]
    }
   ],
   "source": [
    "coeffs=train_model(lr=2)"
   ]
  },
  {
   "cell_type": "code",
   "execution_count": 464,
   "metadata": {},
   "outputs": [
    {
     "data": {
      "text/plain": [
       "tensor([ -1.6562,  -1.1978,  -0.0264,   2.0475, -18.9596,  16.6258,   7.8170,   4.0900, -12.5817,   3.1918,   1.0449,  -5.8589],\n",
       "       requires_grad=True)"
      ]
     },
     "execution_count": 464,
     "metadata": {},
     "output_type": "execute_result"
    }
   ],
   "source": [
    "coeffs"
   ]
  },
  {
   "cell_type": "code",
   "execution_count": 465,
   "metadata": {},
   "outputs": [
    {
     "data": {
      "text/plain": [
       "tensor([ 0.0273,  0.0477,  0.0248, -0.0250,  0.3275, -0.2738, -0.1401, -0.0813,  0.2751, -0.0714, -0.0267,  0.1518])"
      ]
     },
     "execution_count": 465,
     "metadata": {},
     "output_type": "execute_result"
    }
   ],
   "source": [
    "coeffs.grad"
   ]
  },
  {
   "cell_type": "code",
   "execution_count": 466,
   "metadata": {},
   "outputs": [
    {
     "data": {
      "text/plain": [
       "tensor(0.8258)"
      ]
     },
     "execution_count": 466,
     "metadata": {},
     "output_type": "execute_result"
    }
   ],
   "source": [
    "acc(coeffs)"
   ]
  },
  {
   "cell_type": "markdown",
   "metadata": {},
   "source": [
    "step size= slope*lr(stop when step size close to 0):  with torch.no_grad():"
   ]
  }
 ],
 "metadata": {
  "kernelspec": {
   "display_name": "Python 3",
   "language": "python",
   "name": "python3"
  },
  "language_info": {
   "codemirror_mode": {
    "name": "ipython",
    "version": 3
   },
   "file_extension": ".py",
   "mimetype": "text/x-python",
   "name": "python",
   "nbconvert_exporter": "python",
   "pygments_lexer": "ipython3",
   "version": "3.8.5"
  },
  "orig_nbformat": 4
 },
 "nbformat": 4,
 "nbformat_minor": 2
}
